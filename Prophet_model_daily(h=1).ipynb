{
 "cells": [
  {
   "cell_type": "code",
   "execution_count": 1,
   "metadata": {},
   "outputs": [
    {
     "name": "stderr",
     "output_type": "stream",
     "text": [
      "Importing plotly failed. Interactive plots will not work.\n"
     ]
    }
   ],
   "source": [
    "import yfinance as yf\n",
    "import pandas as pd\n",
    "import numpy as np\n",
    "import time\n",
    "import optuna \n",
    "import logging\n",
    "from datetime import timedelta, datetime\n",
    "from prophet import Prophet\n",
    "from prophet.diagnostics import cross_validation, performance_metrics\n",
    "from concurrent.futures import ThreadPoolExecutor\n",
    "\n",
    "# Configuración de logging\n",
    "logging.getLogger(\"prophet\").setLevel(logging.ERROR)\n",
    "logging.getLogger(\"cmdstanpy\").disabled = True\n",
    "optuna.logging.set_verbosity(optuna.logging.ERROR)"
   ]
  },
  {
   "cell_type": "code",
   "execution_count": 2,
   "metadata": {},
   "outputs": [
    {
     "name": "stderr",
     "output_type": "stream",
     "text": [
      "[*********************100%%**********************]  8 of 8 completed\n"
     ]
    }
   ],
   "source": [
    "# Descargar datos\n",
    "tickers = ['AAPL', 'MSFT', 'GOOGL', 'AMZN', 'NVDA', 'META', 'IBM', 'BTC-USD']\n",
    "Y_df = yf.download(tickers, start='2000-01-01', interval='1d')['Adj Close']\n",
    "\n",
    "# Resetear el índice y transformar el DataFrame\n",
    "Y_df = Y_df.reset_index().melt(id_vars='Date', var_name='unique_id', value_name='y')\n",
    "Y_df = Y_df.rename(columns={'Date': 'ds'})\n",
    "Y_df = Y_df[['unique_id', 'ds', 'y']]\n",
    "Y_df = Y_df.dropna(subset=['y']).reset_index(drop=True)"
   ]
  },
  {
   "cell_type": "code",
   "execution_count": 3,
   "metadata": {},
   "outputs": [],
   "source": [
    "proporcion_entrenamiento = 0.80\n",
    "horizon_days = 1\n",
    "fourier_order = 4\n",
    "\n",
    "Y_df_grouped = Y_df.groupby('unique_id')"
   ]
  },
  {
   "cell_type": "code",
   "execution_count": 4,
   "metadata": {},
   "outputs": [],
   "source": [
    "# Inicialización de DataFrames para resultados\n",
    "forecast_result_list = []\n",
    "modelo_precision_forecast_list = []\n",
    "timestamp = datetime.now().strftime('%Y-%m-%d')\n",
    "\n",
    "# Función para realizar la optimización con Optuna\n",
    "def optimize_prophet(trial, ts_prophet, training_duration, horizon):\n",
    "    param_grid = {\n",
    "        'changepoint_prior_scale': trial.suggest_float('changepoint_prior_scale', 0.001, 0.5, log=True),\n",
    "        'seasonality_prior_scale': trial.suggest_float('seasonality_prior_scale', 0.01, 10, log=True),\n",
    "        'holidays_prior_scale': trial.suggest_float('holidays_prior_scale', 0.01, 10, log=True),\n",
    "        'seasonality_mode': trial.suggest_categorical('seasonality_mode', ['additive', 'multiplicative']),\n",
    "        'changepoint_range': trial.suggest_float('changepoint_range', 0.8, 0.95)\n",
    "    }\n",
    "\n",
    "    model = Prophet(**param_grid, yearly_seasonality=True, weekly_seasonality=True, daily_seasonality=False, interval_width=0.8)\n",
    "    model.add_country_holidays(country_name='US')\n",
    "\n",
    "    model.fit(ts_prophet)\n",
    "    df_cv_model = cross_validation(model, initial=timedelta(days=training_duration), horizon=timedelta(days=horizon), disable_tqdm=True, parallel='threads')\n",
    "    df_metrics = performance_metrics(df_cv_model)\n",
    "\n",
    "    smape_score = (df_metrics.groupby('horizon').mean())['smape'].mean()\n",
    "    mape_score = (df_metrics.groupby('horizon').mean())['mape'].mean()\n",
    "    mse_score = (df_metrics.groupby('horizon').mean())['mse'].mean()\n",
    "    rmse_score = (df_metrics.groupby('horizon').mean())['rmse'].mean()\n",
    "    mae_score = (df_metrics.groupby('horizon').mean())['mae'].mean()\n",
    "\n",
    "    trial.set_user_attr(\"mape_score\", mape_score)\n",
    "    trial.set_user_attr(\"mse_score\", mse_score)\n",
    "    trial.set_user_attr(\"rmse_score\", rmse_score)\n",
    "    trial.set_user_attr(\"mae_score\", mae_score)\n",
    "\n",
    "    return smape_score"
   ]
  },
  {
   "cell_type": "code",
   "execution_count": 5,
   "metadata": {},
   "outputs": [],
   "source": [
    "def forecast_for_Ticker(id, ts, horizon_days, proporcion_entrenamiento):\n",
    "    try:\n",
    "        start_time = time.time()  # Inicia el cronómetro\n",
    "\n",
    "        # Ajuste de la serie temporal\n",
    "        ts = ts.drop('unique_id', axis=1).sort_values(by='ds').reset_index(drop=True)\n",
    "        ts['ds'] = pd.to_datetime(ts['ds'])\n",
    "\n",
    "        # Splitting Training y Validación\n",
    "        indice_entrenamiento = int(len(ts) * proporcion_entrenamiento)\n",
    "        ts_entrenamiento = ts[:indice_entrenamiento]\n",
    "        ts_validacion = ts[indice_entrenamiento:]\n",
    "        ts_prophet = pd.concat([ts_entrenamiento, ts_validacion]).reset_index(drop=True)\n",
    "\n",
    "        # Implementación del modelo Prophet\n",
    "        training_duration_days = len(ts_entrenamiento) \n",
    "\n",
    "        # Optimización de parámetros\n",
    "        study = optuna.create_study(direction='minimize')\n",
    "        study.optimize(lambda trial: optimize_prophet(trial, ts_prophet, training_duration_days, horizon_days), n_trials=30, n_jobs=-1, timeout=180)\n",
    "\n",
    "        smape_score = study.best_value\n",
    "        accuracy = round((1 - smape_score)*100, 2) if smape_score < 1 else 0.00\n",
    "\n",
    "        mape_score = study.best_trial.user_attrs[\"mape_score\"]\n",
    "        mse_score = study.best_trial.user_attrs[\"mse_score\"]\n",
    "        rmse_score = study.best_trial.user_attrs[\"rmse_score\"]\n",
    "        mae_score = study.best_trial.user_attrs[\"mae_score\"]\n",
    "        best_params = study.best_trial.params\n",
    "\n",
    "        model = Prophet(**best_params, interval_width=0.8)\n",
    "        model.add_country_holidays(country_name='US')\n",
    "\n",
    "        model.fit(ts_prophet)\n",
    "        future = model.make_future_dataframe(periods=horizon_days, freq=\"D\", include_history=False)\n",
    "        forecast = model.predict(future)\n",
    "\n",
    "        end_time = time.time()\n",
    "        forecast_duration = end_time - start_time\n",
    "\n",
    "        resultado_accuracy = {\n",
    "            'ticker': id,\n",
    "            'accuracy': accuracy,\n",
    "            'smape': smape_score,\n",
    "            'mape': mape_score,\n",
    "            'mae': mae_score,\n",
    "            'mse': mse_score,\n",
    "            'rmse': rmse_score,\n",
    "            'forecast_duration_seconds': forecast_duration\n",
    "        }\n",
    "\n",
    "        forecast['ticker'] = id\n",
    "        forecast['yhat'] = forecast['yhat'].round(2)\n",
    "        forecast['ds'] = forecast['ds'].dt.strftime('%d-%m-%Y')\n",
    "\n",
    "        return resultado_accuracy, forecast[['ticker', 'ds', 'yhat']].to_dict('records')\n",
    "    except Exception as e:\n",
    "        logging.error(f'Error procesando {id}. No existe suficiente información para realizar el forecasting: {e}')\n",
    "        return None, None\n",
    "\n",
    "# Ejecución en paralelo\n",
    "with ThreadPoolExecutor() as executor:\n",
    "    futures = [executor.submit(forecast_for_Ticker, id, ts, horizon_days, proporcion_entrenamiento) for id, ts in Y_df_grouped]\n",
    "    for future in futures:\n",
    "        try:\n",
    "            result = future.result()\n",
    "            if result is not None:\n",
    "                resultado_accuracy, forecast_records = result\n",
    "                if resultado_accuracy is not None:\n",
    "                    modelo_precision_forecast_list.append(resultado_accuracy)\n",
    "                    print(f\"SMAPE: {resultado_accuracy.get('smape'):.2f}, MAPE: {resultado_accuracy.get('mape'):.2f}, MAE: {resultado_accuracy.get('mae'):.2f}, MSE: {resultado_accuracy.get('mse'):.2f}, RMSE: {resultado_accuracy.get('rmse'):.2f}, Forecast Duration: {resultado_accuracy.get('forecast_duration_seconds'):.2f} seconds\")\n",
    "                if forecast_records is not None:\n",
    "                    forecast_result_list.extend(forecast_records)\n",
    "        except Exception as e:\n",
    "            print(f'Error processing future: {e}')"
   ]
  },
  {
   "cell_type": "code",
   "execution_count": null,
   "metadata": {},
   "outputs": [],
   "source": [
    "modelo_precision_forecast_list = [item for item in modelo_precision_forecast_list if item is not None]\n",
    "forecast_result_list = [item for item in forecast_result_list if item is not None]\n",
    "\n",
    "# Crear los dataframes pandas de los resultados\n",
    "modelo_precision_forecast = pd.DataFrame(modelo_precision_forecast_list)\n",
    "forecast_result = pd.DataFrame(forecast_result_list)"
   ]
  },
  {
   "cell_type": "code",
   "execution_count": null,
   "metadata": {},
   "outputs": [
    {
     "data": {
      "text/html": [
       "<div>\n",
       "<style scoped>\n",
       "    .dataframe tbody tr th:only-of-type {\n",
       "        vertical-align: middle;\n",
       "    }\n",
       "\n",
       "    .dataframe tbody tr th {\n",
       "        vertical-align: top;\n",
       "    }\n",
       "\n",
       "    .dataframe thead th {\n",
       "        text-align: right;\n",
       "    }\n",
       "</style>\n",
       "<table border=\"1\" class=\"dataframe\">\n",
       "  <thead>\n",
       "    <tr style=\"text-align: right;\">\n",
       "      <th></th>\n",
       "      <th>ticker</th>\n",
       "      <th>accuracy</th>\n",
       "      <th>smape</th>\n",
       "      <th>mape</th>\n",
       "      <th>mae</th>\n",
       "      <th>mse</th>\n",
       "      <th>rmse</th>\n",
       "      <th>forecast_duration_seconds</th>\n",
       "    </tr>\n",
       "  </thead>\n",
       "  <tbody>\n",
       "    <tr>\n",
       "      <th>0</th>\n",
       "      <td>Adj Close</td>\n",
       "      <td>65.74</td>\n",
       "      <td>0.342623</td>\n",
       "      <td>0.37494</td>\n",
       "      <td>13152.396606</td>\n",
       "      <td>2.735382e+08</td>\n",
       "      <td>16291.721173</td>\n",
       "      <td>16.413954</td>\n",
       "    </tr>\n",
       "  </tbody>\n",
       "</table>\n",
       "</div>"
      ],
      "text/plain": [
       "      ticker  accuracy     smape     mape           mae           mse  \\\n",
       "0  Adj Close     65.74  0.342623  0.37494  13152.396606  2.735382e+08   \n",
       "\n",
       "           rmse  forecast_duration_seconds  \n",
       "0  16291.721173                  16.413954  "
      ]
     },
     "execution_count": 7,
     "metadata": {},
     "output_type": "execute_result"
    }
   ],
   "source": [
    "modelo_precision_forecast"
   ]
  }
 ],
 "metadata": {
  "kernelspec": {
   "display_name": "Python 3",
   "language": "python",
   "name": "python3"
  },
  "language_info": {
   "codemirror_mode": {
    "name": "ipython",
    "version": 3
   },
   "file_extension": ".py",
   "mimetype": "text/x-python",
   "name": "python",
   "nbconvert_exporter": "python",
   "pygments_lexer": "ipython3",
   "version": "3.11.9"
  }
 },
 "nbformat": 4,
 "nbformat_minor": 2
}
