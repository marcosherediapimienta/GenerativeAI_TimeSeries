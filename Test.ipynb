{
 "cells": [
  {
   "cell_type": "code",
   "execution_count": 137,
   "metadata": {},
   "outputs": [],
   "source": [
    "import yfinance as yf\n",
    "import optuna\n",
    "import time\n",
    "import numpy as np\n",
    "import pandas as pd\n",
    "from statsforecast import StatsForecast\n",
    "from statsforecast.models import ARIMA\n",
    "from utilsforecast.evaluation import evaluate\n",
    "from utilsforecast.losses import smape as smape_cv, mape as mape_cv, mae as mae_cv, mse as mse_cv, rmse as rmse_cv\n",
    "from neuralforecast.losses.pytorch import SMAPE\n",
    "\n",
    "import logging\n",
    "import warnings\n",
    "\n",
    "# Configuraciones para ignorar advertencias\n",
    "warnings.simplefilter(action='ignore', category=FutureWarning)\n",
    "logging.getLogger(\"pytorch_lightning\").setLevel(logging.WARNING)\n",
    "optuna.logging.set_verbosity(optuna.logging.WARNING)\n",
    "logging.getLogger(\"lightning_fabric\").setLevel(logging.WARNING)\n"
   ]
  },
  {
   "cell_type": "code",
   "execution_count": 138,
   "metadata": {},
   "outputs": [],
   "source": [
    "import numpy as np\n",
    "import pandas as pd\n",
    "import matplotlib.pyplot as plt\n",
    "import optuna\n",
    "from neuralforecast import NeuralForecast\n",
    "from neuralforecast.models import TiDE\n",
    "from neuralforecast.losses.pytorch import SMAPE\n",
    "from utilsforecast.evaluation import evaluate\n",
    "from utilsforecast.losses import smape as smape_cv, mape as mape_cv, mae as mae_cv, mse as mse_cv, rmse as rmse_cv\n",
    "import logging\n",
    "import warnings\n",
    "\n",
    "# Configuraciones para ignorar advertencias\n",
    "warnings.simplefilter(action='ignore', category=FutureWarning)\n",
    "logging.getLogger(\"pytorch_lightning\").setLevel(logging.WARNING)\n",
    "optuna.logging.set_verbosity(optuna.logging.WARNING)\n",
    "logging.getLogger(\"lightning_fabric\").setLevel(logging.WARNING)"
   ]
  },
  {
   "cell_type": "code",
   "execution_count": 139,
   "metadata": {},
   "outputs": [
    {
     "name": "stderr",
     "output_type": "stream",
     "text": [
      "[*********************100%%**********************]  8 of 8 completed\n"
     ]
    }
   ],
   "source": [
    "# Descargar datos\n",
    "tickers = ['AAPL', 'MSFT', 'GOOGL', 'AMZN', 'NVDA', 'META', 'IBM', 'BTC-USD']\n",
    "Y_df = yf.download(tickers, start='2000-01-01', interval='1mo')['Adj Close']\n",
    "\n",
    "# Resetear el índice y transformar el DataFrame\n",
    "Y_df = Y_df.reset_index().melt(id_vars='Date', var_name='unique_id', value_name='y')\n",
    "Y_df = Y_df.rename(columns={'Date': 'ds'})\n",
    "Y_df = Y_df[['unique_id', 'ds', 'y']]\n",
    "Y_df = Y_df.dropna(subset=['y']).reset_index(drop=True)\n"
   ]
  },
  {
   "cell_type": "code",
   "execution_count": 140,
   "metadata": {},
   "outputs": [],
   "source": [
    "horizon = 1"
   ]
  },
  {
   "cell_type": "code",
   "execution_count": 170,
   "metadata": {},
   "outputs": [],
   "source": [
    "def objective(trial, df_serie, horizon):\n",
    "    try:\n",
    "        # Definición de los parámetros a optimizar\n",
    "        p = trial.suggest_int('p', 0, 5)\n",
    "        d = trial.suggest_int('d', 0, 2)\n",
    "        q = trial.suggest_int('q', 0, 5)\n",
    "        P = trial.suggest_int('P', 0, 2)\n",
    "        D = trial.suggest_int('D', 0, 1)\n",
    "        Q = trial.suggest_int('Q', 0, 2)\n",
    "\n",
    "        # Imprimir los parámetros seleccionados\n",
    "        print(f\"Parámetros seleccionados para el trial: p={p}, d={d}, q={q}, P={P}, D={D}, Q={Q}\")\n",
    "\n",
    "        # Crear el modelo ARIMA\n",
    "        model = ARIMA(\n",
    "            order=(p, d, q),\n",
    "            seasonal_order=(P, D, Q, 12) \n",
    "        )\n",
    "\n",
    "        # Pasar el modelo como una lista\n",
    "        sf = StatsForecast(\n",
    "            models=[model],  # Asegúrate de que model está en una lista\n",
    "            freq='MS',  \n",
    "            n_jobs=-1 \n",
    "        )\n",
    "\n",
    "        # Validación cruzada\n",
    "        cv_df = sf.cross_validation(df_serie, n_windows=5, step_size=horizon)\n",
    "        cv_df = cv_df.reset_index()\n",
    "\n",
    "        # Evaluar las predicciones\n",
    "        evaluation_df = evaluate(cv_df.loc[:, cv_df.columns != 'cutoff'],\n",
    "                                 metrics=[smape_cv, mape_cv, mae_cv, mse_cv, rmse_cv])\n",
    "\n",
    "        # Extraer métricas\n",
    "        smape = evaluation_df[evaluation_df['metric'] == 'smape']['ARIMA'].values[0]\n",
    "        mape = evaluation_df[evaluation_df['metric'] == 'mape']['ARIMA'].values[0]\n",
    "        mae = evaluation_df[evaluation_df['metric'] == 'mae']['ARIMA'].values[0]\n",
    "        mse = evaluation_df[evaluation_df['metric'] == 'mse']['ARIMA'].values[0]\n",
    "        rmse = evaluation_df[evaluation_df['metric'] == 'rmse']['ARIMA'].values[0]\n",
    "\n",
    "        # Guardar métricas en los atributos del trial\n",
    "        trial.set_user_attr('mape', mape)\n",
    "        trial.set_user_attr('mae', mae)\n",
    "        trial.set_user_attr('mse', mse)\n",
    "        trial.set_user_attr('rmse', rmse)\n",
    "\n",
    "        return smape\n",
    "    except Exception as e:\n",
    "        print(f\"Error en el trial para el ticker: {df_serie['unique_id'].unique()[0]}: {str(e)}\")\n",
    "        raise optuna.exceptions.TrialPruned()\n",
    "\n"
   ]
  },
  {
   "cell_type": "code",
   "execution_count": 171,
   "metadata": {},
   "outputs": [
    {
     "name": "stdout",
     "output_type": "stream",
     "text": [
      "Optimizando para AAPL\n",
      "Parámetros seleccionados para el trial: p=2, d=2, q=1, P=2, D=0, Q=0\n",
      "Error en el trial para el ticker: AAPL: can only concatenate str (not \"int\") to str\n"
     ]
    },
    {
     "ename": "ValueError",
     "evalue": "No trials are completed yet.",
     "output_type": "error",
     "traceback": [
      "\u001b[0;31m---------------------------------------------------------------------------\u001b[0m",
      "\u001b[0;31mValueError\u001b[0m                                Traceback (most recent call last)",
      "Cell \u001b[0;32mIn[171], line 17\u001b[0m\n\u001b[1;32m     14\u001b[0m study\u001b[38;5;241m.\u001b[39moptimize(\u001b[38;5;28;01mlambda\u001b[39;00m trial: objective(trial, df_ticker, horizon), n_trials\u001b[38;5;241m=\u001b[39m\u001b[38;5;241m1\u001b[39m)\n\u001b[1;32m     16\u001b[0m \u001b[38;5;66;03m# Si el estudio tiene éxito, se imprimen los mejores resultados\u001b[39;00m\n\u001b[0;32m---> 17\u001b[0m \u001b[38;5;28;01mif\u001b[39;00m \u001b[43mstudy\u001b[49m\u001b[38;5;241;43m.\u001b[39;49m\u001b[43mbest_trial\u001b[49m:\n\u001b[1;32m     18\u001b[0m     best_trial \u001b[38;5;241m=\u001b[39m study\u001b[38;5;241m.\u001b[39mbest_trial\n\u001b[1;32m     19\u001b[0m     mape \u001b[38;5;241m=\u001b[39m best_trial\u001b[38;5;241m.\u001b[39muser_attrs[\u001b[38;5;124m'\u001b[39m\u001b[38;5;124mmape\u001b[39m\u001b[38;5;124m'\u001b[39m]\n",
      "File \u001b[0;32m/Library/Frameworks/Python.framework/Versions/3.11/lib/python3.11/site-packages/optuna/study/study.py:157\u001b[0m, in \u001b[0;36mStudy.best_trial\u001b[0;34m(self)\u001b[0m\n\u001b[1;32m    151\u001b[0m \u001b[38;5;28;01mif\u001b[39;00m \u001b[38;5;28mself\u001b[39m\u001b[38;5;241m.\u001b[39m_is_multi_objective():\n\u001b[1;32m    152\u001b[0m     \u001b[38;5;28;01mraise\u001b[39;00m \u001b[38;5;167;01mRuntimeError\u001b[39;00m(\n\u001b[1;32m    153\u001b[0m         \u001b[38;5;124m\"\u001b[39m\u001b[38;5;124mA single best trial cannot be retrieved from a multi-objective study. Consider \u001b[39m\u001b[38;5;124m\"\u001b[39m\n\u001b[1;32m    154\u001b[0m         \u001b[38;5;124m\"\u001b[39m\u001b[38;5;124musing Study.best_trials to retrieve a list containing the best trials.\u001b[39m\u001b[38;5;124m\"\u001b[39m\n\u001b[1;32m    155\u001b[0m     )\n\u001b[0;32m--> 157\u001b[0m \u001b[38;5;28;01mreturn\u001b[39;00m copy\u001b[38;5;241m.\u001b[39mdeepcopy(\u001b[38;5;28;43mself\u001b[39;49m\u001b[38;5;241;43m.\u001b[39;49m\u001b[43m_storage\u001b[49m\u001b[38;5;241;43m.\u001b[39;49m\u001b[43mget_best_trial\u001b[49m\u001b[43m(\u001b[49m\u001b[38;5;28;43mself\u001b[39;49m\u001b[38;5;241;43m.\u001b[39;49m\u001b[43m_study_id\u001b[49m\u001b[43m)\u001b[49m)\n",
      "File \u001b[0;32m/Library/Frameworks/Python.framework/Versions/3.11/lib/python3.11/site-packages/optuna/storages/_in_memory.py:234\u001b[0m, in \u001b[0;36mInMemoryStorage.get_best_trial\u001b[0;34m(self, study_id)\u001b[0m\n\u001b[1;32m    231\u001b[0m best_trial_id \u001b[38;5;241m=\u001b[39m \u001b[38;5;28mself\u001b[39m\u001b[38;5;241m.\u001b[39m_studies[study_id]\u001b[38;5;241m.\u001b[39mbest_trial_id\n\u001b[1;32m    233\u001b[0m \u001b[38;5;28;01mif\u001b[39;00m best_trial_id \u001b[38;5;129;01mis\u001b[39;00m \u001b[38;5;28;01mNone\u001b[39;00m:\n\u001b[0;32m--> 234\u001b[0m     \u001b[38;5;28;01mraise\u001b[39;00m \u001b[38;5;167;01mValueError\u001b[39;00m(\u001b[38;5;124m\"\u001b[39m\u001b[38;5;124mNo trials are completed yet.\u001b[39m\u001b[38;5;124m\"\u001b[39m)\n\u001b[1;32m    235\u001b[0m \u001b[38;5;28;01melif\u001b[39;00m \u001b[38;5;28mlen\u001b[39m(\u001b[38;5;28mself\u001b[39m\u001b[38;5;241m.\u001b[39m_studies[study_id]\u001b[38;5;241m.\u001b[39mdirections) \u001b[38;5;241m>\u001b[39m \u001b[38;5;241m1\u001b[39m:\n\u001b[1;32m    236\u001b[0m     \u001b[38;5;28;01mraise\u001b[39;00m \u001b[38;5;167;01mRuntimeError\u001b[39;00m(\n\u001b[1;32m    237\u001b[0m         \u001b[38;5;124m\"\u001b[39m\u001b[38;5;124mBest trial can be obtained only for single-objective optimization.\u001b[39m\u001b[38;5;124m\"\u001b[39m\n\u001b[1;32m    238\u001b[0m     )\n",
      "\u001b[0;31mValueError\u001b[0m: No trials are completed yet."
     ]
    }
   ],
   "source": [
    "best_params_by_ticker = {}\n",
    "\n",
    "# Iterar sobre cada serie temporal\n",
    "for ticker in tickers:\n",
    "    print(f\"Optimizando para {ticker}\")\n",
    "\n",
    "    # Filtrar los datos por ticker\n",
    "    df_ticker = Y_df[Y_df['unique_id'] == ticker].reset_index(drop=True)\n",
    "\n",
    "    # Crear el estudio de Optuna para cada ticker\n",
    "    study = optuna.create_study(direction='minimize')\n",
    "\n",
    "    # Optimizar los hiperparámetros\n",
    "    study.optimize(lambda trial: objective(trial, df_ticker, horizon), n_trials=1)\n",
    "\n",
    "    # Si el estudio tiene éxito, se imprimen los mejores resultados\n",
    "    if study.best_trial:\n",
    "        best_trial = study.best_trial\n",
    "        mape = best_trial.user_attrs['mape']\n",
    "        mae = best_trial.user_attrs['mae']\n",
    "        mse = best_trial.user_attrs['mse']\n",
    "        rmse = best_trial.user_attrs['rmse']\n",
    "\n",
    "        best_params_by_ticker[ticker] = study.best_params\n",
    "\n",
    "        print(\"Mejores hiperparámetros:\", study.best_params)\n",
    "        print(\"Mejor SMAPE:\", study.best_value)\n",
    "        print(f'Best MAPE: {mape}')\n",
    "        print(f'Best MAE: {mae}')\n",
    "        print(f'Best MSE: {mse}')\n",
    "        print(f'Best RMSE: {rmse}')\n",
    "    else:\n",
    "        print(\"No hay trials completados exitosamente.\")"
   ]
  }
 ],
 "metadata": {
  "kernelspec": {
   "display_name": "Python 3",
   "language": "python",
   "name": "python3"
  },
  "language_info": {
   "codemirror_mode": {
    "name": "ipython",
    "version": 3
   },
   "file_extension": ".py",
   "mimetype": "text/x-python",
   "name": "python",
   "nbconvert_exporter": "python",
   "pygments_lexer": "ipython3",
   "version": "3.11.8"
  }
 },
 "nbformat": 4,
 "nbformat_minor": 2
}
